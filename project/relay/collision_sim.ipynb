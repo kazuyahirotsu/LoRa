{
 "cells": [
  {
   "cell_type": "code",
   "execution_count": 2,
   "metadata": {},
   "outputs": [
    {
     "name": "stdout",
     "output_type": "stream",
     "text": [
      "[1, 10, 100, 1000, 10000, 100000, 1000000, 10000000]\n",
      "[1.0, 0.5, 0.38, 0.441, 0.462, 0.45643, 0.455276, 0.4556743]\n"
     ]
    }
   ],
   "source": [
    "import random\n",
    "trials = [10**i for i in range(8)]\n",
    "p_list = []\n",
    "slot_num = 10\n",
    "slot_length = 0.5\n",
    "time_length = 60-slot_length\n",
    "for trial in trials:\n",
    "    p = 0\n",
    "    for _ in range(trial):\n",
    "        nooverlap = True\n",
    "        a = [random.uniform(0, time_length) for _ in range(slot_num)]\n",
    "        a.sort()\n",
    "        for i in range(1,slot_num):\n",
    "            if a[i]-a[i-1]>slot_length:\n",
    "                continue\n",
    "            else:\n",
    "                nooverlap = False\n",
    "                break\n",
    "        if nooverlap:\n",
    "            p += 1\n",
    "    p = p/trial\n",
    "    p_list.append(p)\n",
    "print(trials)\n",
    "print(p_list)"
   ]
  },
  {
   "cell_type": "code",
   "execution_count": 13,
   "metadata": {},
   "outputs": [
    {
     "data": {
      "text/plain": [
       "0.0"
      ]
     },
     "execution_count": 13,
     "metadata": {},
     "output_type": "execute_result"
    }
   ],
   "source": [
    "slot_num = 10\n",
    "slot_length = 6\n",
    "time_length = 60\n",
    "(time_length-slot_length*slot_num)**slot_num/(time_length-slot_length)**slot_num"
   ]
  },
  {
   "cell_type": "code",
   "execution_count": 17,
   "metadata": {},
   "outputs": [
    {
     "name": "stdout",
     "output_type": "stream",
     "text": [
      "0.842825925925926\n"
     ]
    }
   ],
   "source": [
    "import math\n",
    "window = 60\n",
    "slot = 1\n",
    "num = 5\n",
    "a = int(window/slot)\n",
    "\n",
    "print(math.factorial(a) / (a**num * math.factorial(a-num)))"
   ]
  },
  {
   "cell_type": "code",
   "execution_count": null,
   "metadata": {},
   "outputs": [],
   "source": []
  }
 ],
 "metadata": {
  "kernelspec": {
   "display_name": "Python 3.6.5 64-bit ('3.6.5')",
   "language": "python",
   "name": "python3"
  },
  "language_info": {
   "codemirror_mode": {
    "name": "ipython",
    "version": 3
   },
   "file_extension": ".py",
   "mimetype": "text/x-python",
   "name": "python",
   "nbconvert_exporter": "python",
   "pygments_lexer": "ipython3",
   "version": "3.6.5 (default, Oct 26 2021, 23:11:31) \n[GCC Apple LLVM 12.0.5 (clang-1205.0.22.9)]"
  },
  "orig_nbformat": 4,
  "vscode": {
   "interpreter": {
    "hash": "106a14717de9679051cc38c1aec69b5e162934b62ca92ec90bd8f1e597d39eba"
   }
  }
 },
 "nbformat": 4,
 "nbformat_minor": 2
}
